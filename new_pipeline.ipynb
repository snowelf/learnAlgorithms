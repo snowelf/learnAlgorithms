{
  "cells": [
    {
      "cell_type": "markdown",
      "metadata": {
        "id": "view-in-github",
        "colab_type": "text"
      },
      "source": [
        "<a href=\"https://colab.research.google.com/github/snowelf/learnAlgorithms/blob/master/%E2%80%9C%E2%80%9Cpipeline_ipynb%E2%80%9D%E7%9A%84%E5%89%AF%E6%9C%AC%E2%80%9D%E7%9A%84%E5%89%AF%E6%9C%AC.ipynb\" target=\"_parent\"><img src=\"https://colab.research.google.com/assets/colab-badge.svg\" alt=\"Open In Colab\"/></a>"
      ]
    },
    {
      "cell_type": "code",
      "execution_count": null,
      "metadata": {
        "id": "sBbcB4vwj_jm"
      },
      "outputs": [],
      "source": [
        "#执行第一个单元格，无问题之后再执行第二个单元格,另外你需要把lora文件下好之后放在你的google网盘里\n",
        "!pip install torch=1.13.1+cu117 torchvision=0.14.1+cu117 torchtext=0.14.1 torchaudio=0.13.1 torchdata=0.5.1\n"
        "!pip install --upgrade fastapi==0.90.0\n",
        "!git clone https://github.com/AUTOMATIC1111/stable-diffusion-webui\n",
        "!git clone https://github.com/yfszzx/stable-diffusion-webui-images-browser /content/stable-diffusion-webui/extensions/stable-diffusion-webui-images-browser\n",
        "!curl -Lo chilloutmixni.safetensors https://huggingface.co/nolanaatama/chomni/resolve/main/chomni.safetensors\n",
        "!curl -Lo ulzzang-6500.pt https://huggingface.co/nolanaatama/chomni/resolve/main/ulzzang-6500.pt\n",
        "!mv \"/content/chilloutmixni.safetensors\" \"/content/stable-diffusion-webui/models/Stable-diffusion\"\n",
        "!mv \"/content/ulzzang-6500.pt\" \"/content/stable-diffusion-webui/embeddings\"\n",
        "%cd /content/stable-diffusion-webui\n",
        "!git checkout 91c8d0d\n",
        "from google.colab import drive\n",
        "drive.mount('/content/drive')\n",
        "#!cp \"/content/drive/MyDrive/taiwan_v10.safetensors\" \"/content/stable-diffusion-webui/models/Lora/taiwan_v10.safetensors\"\n",
        "#!cp \"/content/drive/MyDrive/koreanv15.safetensors\"  \"/content/stable-diffusion-webui/models/Lora/koreanv15.safetensors\"\n",
        "#!cp \"/content/drive/MyDrive/eura.safetensors\"       \"/content/stable-diffusion-webui/models/Lora/eura.safetensors\"\n",
        "#!cp \"/content/drive/MyDrive/bronya.safetensors\"     \"/content/stable-diffusion-webui/models/Lora/bronya.safetensors\"\n",
        "#第一个单元格最后一步：必须要做！！！！！！！！！手动在/content/stable-diffusion-webui/models/下面建Lora目录,mkdir命令好像不好使"
      ]
    },
    {
      "cell_type": "code",
      "source": [
        "!cp \"/content/drive/MyDrive/taiwan_v10.safetensors\" \"/content/stable-diffusion-webui/models/Lora/\"\n",
        "!cp \"/content/drive/MyDrive/koreanv15.safetensors\"  \"/content/stable-diffusion-webui/models/Lora/\"\n",
        "!cp \"/content/drive/MyDrive/eula.safetensors\" \"/content/stable-diffusion-webui/models/Lora/\"\n",
        "#如果你要用上面的Lora，示例为:    <lora:koreanv15>.   ,有的人写的prompt可能是.   <lora: korean_doll_Likeness_v15>  ，\n",
        "#注意一定要改成你文件夹里面文件对应的文件名，否则画出来的人就和八戒一样\n",
        "\n",
        "!COMMANDLINE_ARGS=\"--share --disable-safe-unpickle --no-half-vae --xformers --reinstall-xformers --enable-insecure-extension-access\"   REQS_FILE=\"requirements.txt\" python launch.py"
      ],
      "metadata": {
        "id": "hkVOBvDUdHJ2",
        "colab": {
          "base_uri": "https://localhost:8080/"
        },
        "outputId": "efa436e2-8af4-41e7-b5dd-9661c9e67e55"
      },
      "execution_count": null,
      "outputs": [
        {
          "output_type": "stream",
          "name": "stdout",
          "text": [
          ]
        }
      ]
    },
    {
      "cell_type": "markdown",
      "metadata": {
        "id": "fhwIXzcgfkoR"
      },
      "source": [
        "# 📚 GitHub for more: [_@nolanaatama_](https://github.com/nolanaatama)\n",
        "# 📦 Repo: [Github](https://github.com/nolanaatama/sd-analog-colab)"
      ]
    }
  ],
  "metadata": {
    "accelerator": "GPU",
    "colab": {
      "provenance": [],
      "include_colab_link": true
    },
    "gpuClass": "standard",
    "kernelspec": {
      "display_name": "Python 3",
      "name": "python3"
    },
    "language_info": {
      "name": "python"
    }
  },
  "nbformat": 4,
  "nbformat_minor": 0
}
